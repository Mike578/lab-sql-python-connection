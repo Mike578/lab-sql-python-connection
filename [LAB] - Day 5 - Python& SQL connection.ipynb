{
 "cells": [
  {
   "cell_type": "code",
   "execution_count": 8,
   "metadata": {},
   "outputs": [
    {
     "name": "stdout",
     "output_type": "stream",
     "text": [
      "Defaulting to user installation because normal site-packages is not writeable\n",
      "Requirement already satisfied: sqlalchemy in c:\\users\\micel\\appdata\\roaming\\python\\python312\\site-packages (2.0.28)\n",
      "Requirement already satisfied: typing-extensions>=4.6.0 in d:\\programmes\\miniconda\\lib\\site-packages (from sqlalchemy) (4.9.0)\n",
      "Requirement already satisfied: greenlet!=0.4.17 in d:\\programmes\\miniconda\\lib\\site-packages (from sqlalchemy) (3.0.1)\n",
      "Defaulting to user installation because normal site-packages is not writeable\n",
      "Requirement already satisfied: pymysql in d:\\programmes\\miniconda\\lib\\site-packages (1.0.2)\n"
     ]
    }
   ],
   "source": [
    "! pip install sqlalchemy\n",
    "! pip install pymysql"
   ]
  },
  {
   "cell_type": "code",
   "execution_count": 20,
   "metadata": {},
   "outputs": [],
   "source": [
    "import pandas as pd\n",
    "import numpy as np\n",
    "import pymysql\n",
    "from sqlalchemy import create_engine\n",
    "import getpass  # To get the password without showing the input\n",
    "import urllib.parse\n",
    "password = getpass.getpass()"
   ]
  },
  {
   "cell_type": "code",
   "execution_count": 2,
   "metadata": {},
   "outputs": [],
   "source": [
    "import sqlalchemy"
   ]
  },
  {
   "cell_type": "code",
   "execution_count": 3,
   "metadata": {},
   "outputs": [],
   "source": [
    "import mysql.connector"
   ]
  },
  {
   "cell_type": "code",
   "execution_count": 22,
   "metadata": {},
   "outputs": [],
   "source": [
    "# Establishing a connection to the Sakila database\n",
    "connection = mysql.connector.connect(\n",
    "    host=\"127.0.0.1\",\n",
    "    port = \"3306\",\n",
    "    user=\"root\",\n",
    "    password =\"Silver57\",\n",
    "    database =\"sakila\"\n",
    ")"
   ]
  },
  {
   "cell_type": "code",
   "execution_count": 23,
   "metadata": {},
   "outputs": [
    {
     "name": "stdout",
     "output_type": "stream",
     "text": [
      "Connected to MySQL database\n"
     ]
    }
   ],
   "source": [
    "# Check if the connection is successful\n",
    "if connection.is_connected():\n",
    "    print(\"Connected to MySQL database\")\n",
    "else:\n",
    "    print(\"Failed to connect to MySQL database\")"
   ]
  },
  {
   "cell_type": "code",
   "execution_count": 24,
   "metadata": {},
   "outputs": [
    {
     "name": "stdout",
     "output_type": "stream",
     "text": [
      "(1, 'PENELOPE', 'GUINESS', datetime.datetime(2006, 2, 15, 4, 34, 33))\n",
      "(2, 'NICK', 'WAHLBERG', datetime.datetime(2006, 2, 15, 4, 34, 33))\n",
      "(3, 'ED', 'CHASE', datetime.datetime(2006, 2, 15, 4, 34, 33))\n",
      "(4, 'JENNIFER', 'DAVIS', datetime.datetime(2006, 2, 15, 4, 34, 33))\n",
      "(5, 'JOHNNY', 'LOLLOBRIGIDA', datetime.datetime(2006, 2, 15, 4, 34, 33))\n"
     ]
    }
   ],
   "source": [
    "# Creating a cursor object\n",
    "cursor = connection.cursor()\n",
    "\n",
    "# Executing a sample query\n",
    "cursor.execute(\"SELECT * FROM actor LIMIT 5\")\n",
    "\n",
    "# Fetching the results\n",
    "results = cursor.fetchall()\n",
    "\n",
    "# Displaying the results\n",
    "for row in results:\n",
    "    print(row)\n",
    "\n",
    "# Closing cursor and connection\n",
    "cursor.close()\n",
    "connection.close()"
   ]
  },
  {
   "cell_type": "markdown",
   "metadata": {},
   "source": [
    "# DO NOT RUN --> USELESS \n",
    "#  connecting the database\n",
    "\n",
    "# from sqlalchemy as db\n",
    "# engine = db.create_engine(\"sqlite:///european_database.sqlite\")\n",
    "\n",
    "# conn = engine.connect() "
   ]
  },
  {
   "cell_type": "code",
   "execution_count": 14,
   "metadata": {},
   "outputs": [],
   "source": [
    "#other way to connect to MySQL db\n",
    "connection_string = 'mysql+pymysql://root:' + password + '@localhost/sakila'\n",
    "engine = create_engine(connection_string)"
   ]
  },
  {
   "cell_type": "code",
   "execution_count": 25,
   "metadata": {},
   "outputs": [
    {
     "ename": "NameError",
     "evalue": "name 'sql' is not defined",
     "output_type": "error",
     "traceback": [
      "\u001b[1;31m---------------------------------------------------------------------------\u001b[0m",
      "\u001b[1;31mNameError\u001b[0m                                 Traceback (most recent call last)",
      "Cell \u001b[1;32mIn[25], line 1\u001b[0m\n\u001b[1;32m----> 1\u001b[0m new_df \u001b[38;5;241m=\u001b[39m pd\u001b[38;5;241m.\u001b[39mread_sql_query(sql, engine)\n",
      "\u001b[1;31mNameError\u001b[0m: name 'sql' is not defined"
     ]
    }
   ],
   "source": [
    "# new_df = pd.read_sql_query(query to define HERE, engine)"
   ]
  },
  {
   "cell_type": "code",
   "execution_count": 26,
   "metadata": {},
   "outputs": [],
   "source": [
    "def rentals_month(engine, month, year):\n",
    "    # Define the SQL query to retrieve rental data for the specified month and year\n",
    "    sql_query = f\"\"\"\n",
    "        SELECT\n",
    "            r.rental_id,\n",
    "            c.customer_id,\n",
    "            c.first_name,\n",
    "            c.last_name,\n",
    "            r.rental_date,\n",
    "            r.return_date\n",
    "        FROM\n",
    "            rental r\n",
    "        INNER JOIN\n",
    "            customer c ON r.customer_id = c.customer_id\n",
    "        WHERE\n",
    "            MONTH(r.rental_date) = {month} AND\n",
    "            YEAR(r.rental_date) = {year}\n",
    "        \"\"\"\n",
    "\n",
    "    # Execute the SQL query and load the results into a DataFrame\n",
    "    rental_df = pd.read_sql_query(sql_query, engine)\n",
    "\n",
    "    return rental_df"
   ]
  },
  {
   "cell_type": "code",
   "execution_count": 28,
   "metadata": {},
   "outputs": [
    {
     "data": {
      "text/html": [
       "<div>\n",
       "<style scoped>\n",
       "    .dataframe tbody tr th:only-of-type {\n",
       "        vertical-align: middle;\n",
       "    }\n",
       "\n",
       "    .dataframe tbody tr th {\n",
       "        vertical-align: top;\n",
       "    }\n",
       "\n",
       "    .dataframe thead th {\n",
       "        text-align: right;\n",
       "    }\n",
       "</style>\n",
       "<table border=\"1\" class=\"dataframe\">\n",
       "  <thead>\n",
       "    <tr style=\"text-align: right;\">\n",
       "      <th></th>\n",
       "      <th>rental_id</th>\n",
       "      <th>customer_id</th>\n",
       "      <th>first_name</th>\n",
       "      <th>last_name</th>\n",
       "      <th>rental_date</th>\n",
       "      <th>return_date</th>\n",
       "    </tr>\n",
       "  </thead>\n",
       "  <tbody>\n",
       "    <tr>\n",
       "      <th>0</th>\n",
       "      <td>4526</td>\n",
       "      <td>1</td>\n",
       "      <td>MARY</td>\n",
       "      <td>SMITH</td>\n",
       "      <td>2005-07-08 03:17:05</td>\n",
       "      <td>2005-07-14 01:19:05</td>\n",
       "    </tr>\n",
       "    <tr>\n",
       "      <th>1</th>\n",
       "      <td>4611</td>\n",
       "      <td>1</td>\n",
       "      <td>MARY</td>\n",
       "      <td>SMITH</td>\n",
       "      <td>2005-07-08 07:33:56</td>\n",
       "      <td>2005-07-12 13:25:56</td>\n",
       "    </tr>\n",
       "    <tr>\n",
       "      <th>2</th>\n",
       "      <td>5244</td>\n",
       "      <td>1</td>\n",
       "      <td>MARY</td>\n",
       "      <td>SMITH</td>\n",
       "      <td>2005-07-09 13:24:07</td>\n",
       "      <td>2005-07-14 14:01:07</td>\n",
       "    </tr>\n",
       "    <tr>\n",
       "      <th>3</th>\n",
       "      <td>5326</td>\n",
       "      <td>1</td>\n",
       "      <td>MARY</td>\n",
       "      <td>SMITH</td>\n",
       "      <td>2005-07-09 16:38:01</td>\n",
       "      <td>2005-07-13 18:02:01</td>\n",
       "    </tr>\n",
       "    <tr>\n",
       "      <th>4</th>\n",
       "      <td>6163</td>\n",
       "      <td>1</td>\n",
       "      <td>MARY</td>\n",
       "      <td>SMITH</td>\n",
       "      <td>2005-07-11 10:13:46</td>\n",
       "      <td>2005-07-19 13:15:46</td>\n",
       "    </tr>\n",
       "    <tr>\n",
       "      <th>...</th>\n",
       "      <td>...</td>\n",
       "      <td>...</td>\n",
       "      <td>...</td>\n",
       "      <td>...</td>\n",
       "      <td>...</td>\n",
       "      <td>...</td>\n",
       "    </tr>\n",
       "    <tr>\n",
       "      <th>6704</th>\n",
       "      <td>6800</td>\n",
       "      <td>599</td>\n",
       "      <td>AUSTIN</td>\n",
       "      <td>CINTRON</td>\n",
       "      <td>2005-07-12 17:03:56</td>\n",
       "      <td>2005-07-21 20:32:56</td>\n",
       "    </tr>\n",
       "    <tr>\n",
       "      <th>6705</th>\n",
       "      <td>6895</td>\n",
       "      <td>599</td>\n",
       "      <td>AUSTIN</td>\n",
       "      <td>CINTRON</td>\n",
       "      <td>2005-07-12 21:23:59</td>\n",
       "      <td>2005-07-19 20:47:59</td>\n",
       "    </tr>\n",
       "    <tr>\n",
       "      <th>6706</th>\n",
       "      <td>8965</td>\n",
       "      <td>599</td>\n",
       "      <td>AUSTIN</td>\n",
       "      <td>CINTRON</td>\n",
       "      <td>2005-07-30 03:52:37</td>\n",
       "      <td>2005-08-05 01:28:37</td>\n",
       "    </tr>\n",
       "    <tr>\n",
       "      <th>6707</th>\n",
       "      <td>9630</td>\n",
       "      <td>599</td>\n",
       "      <td>AUSTIN</td>\n",
       "      <td>CINTRON</td>\n",
       "      <td>2005-07-31 04:57:07</td>\n",
       "      <td>2005-08-07 10:55:07</td>\n",
       "    </tr>\n",
       "    <tr>\n",
       "      <th>6708</th>\n",
       "      <td>9679</td>\n",
       "      <td>599</td>\n",
       "      <td>AUSTIN</td>\n",
       "      <td>CINTRON</td>\n",
       "      <td>2005-07-31 06:41:19</td>\n",
       "      <td>2005-08-02 07:23:19</td>\n",
       "    </tr>\n",
       "  </tbody>\n",
       "</table>\n",
       "<p>6709 rows × 6 columns</p>\n",
       "</div>"
      ],
      "text/plain": [
       "      rental_id  customer_id first_name last_name         rental_date  \\\n",
       "0          4526            1       MARY     SMITH 2005-07-08 03:17:05   \n",
       "1          4611            1       MARY     SMITH 2005-07-08 07:33:56   \n",
       "2          5244            1       MARY     SMITH 2005-07-09 13:24:07   \n",
       "3          5326            1       MARY     SMITH 2005-07-09 16:38:01   \n",
       "4          6163            1       MARY     SMITH 2005-07-11 10:13:46   \n",
       "...         ...          ...        ...       ...                 ...   \n",
       "6704       6800          599     AUSTIN   CINTRON 2005-07-12 17:03:56   \n",
       "6705       6895          599     AUSTIN   CINTRON 2005-07-12 21:23:59   \n",
       "6706       8965          599     AUSTIN   CINTRON 2005-07-30 03:52:37   \n",
       "6707       9630          599     AUSTIN   CINTRON 2005-07-31 04:57:07   \n",
       "6708       9679          599     AUSTIN   CINTRON 2005-07-31 06:41:19   \n",
       "\n",
       "             return_date  \n",
       "0    2005-07-14 01:19:05  \n",
       "1    2005-07-12 13:25:56  \n",
       "2    2005-07-14 14:01:07  \n",
       "3    2005-07-13 18:02:01  \n",
       "4    2005-07-19 13:15:46  \n",
       "...                  ...  \n",
       "6704 2005-07-21 20:32:56  \n",
       "6705 2005-07-19 20:47:59  \n",
       "6706 2005-08-05 01:28:37  \n",
       "6707 2005-08-07 10:55:07  \n",
       "6708 2005-08-02 07:23:19  \n",
       "\n",
       "[6709 rows x 6 columns]"
      ]
     },
     "execution_count": 28,
     "metadata": {},
     "output_type": "execute_result"
    }
   ],
   "source": [
    "rentals_month(engine, 7, 2005)"
   ]
  },
  {
   "cell_type": "markdown",
   "metadata": {},
   "source": [
    "'''\n",
    "CHAT GPT INFO \n",
    "\n",
    "mport pandas as pd\n",
    "from sqlalchemy import create_engine\n",
    "\n",
    "# Define your SQL query\n",
    "sql_query = \"SELECT * FROM your_table_name;\"\n",
    "\n",
    "# Define your SQLAlchemy engine\n",
    "connection_string = 'mysql+pymysql://root:' + password + '@localhost/sakila'\n",
    "engine = create_engine(connection_string)\n",
    "\n",
    "# Execute the SQL query and load the results into a DataFrame\n",
    "new_df = pd.read_sql_query(sql_query, engine)\n",
    "\n",
    "# Now, new_df contains the results of your SQL query as a DataFrame\n",
    "\n",
    "'''"
   ]
  },
  {
   "cell_type": "code",
   "execution_count": null,
   "metadata": {},
   "outputs": [],
   "source": []
  },
  {
   "cell_type": "code",
   "execution_count": null,
   "metadata": {},
   "outputs": [],
   "source": []
  }
 ],
 "metadata": {
  "kernelspec": {
   "display_name": "base",
   "language": "python",
   "name": "python3"
  },
  "language_info": {
   "codemirror_mode": {
    "name": "ipython",
    "version": 3
   },
   "file_extension": ".py",
   "mimetype": "text/x-python",
   "name": "python",
   "nbconvert_exporter": "python",
   "pygments_lexer": "ipython3",
   "version": "3.12.2"
  }
 },
 "nbformat": 4,
 "nbformat_minor": 2
}
